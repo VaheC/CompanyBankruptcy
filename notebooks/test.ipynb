{
 "cells": [
  {
   "cell_type": "markdown",
   "metadata": {},
   "source": [
    "Exception code testing"
   ]
  },
  {
   "cell_type": "code",
   "execution_count": 1,
   "metadata": {},
   "outputs": [
    {
     "ename": "CustomException",
     "evalue": "Error occured in python script name [C:\\Users\\vchar\\AppData\\Local\\Temp\\ipykernel_36868\\4159084028.py] line number [17] error message [division by zero]",
     "output_type": "error",
     "traceback": [
      "\u001b[1;31m---------------------------------------------------------------------------\u001b[0m",
      "\u001b[1;31mZeroDivisionError\u001b[0m                         Traceback (most recent call last)",
      "Cell \u001b[1;32mIn[1], line 17\u001b[0m\n\u001b[0;32m     16\u001b[0m \u001b[38;5;28;01mtry\u001b[39;00m:\n\u001b[1;32m---> 17\u001b[0m     \u001b[38;5;241;43m1\u001b[39;49m\u001b[43m \u001b[49m\u001b[38;5;241;43m/\u001b[39;49m\u001b[43m \u001b[49m\u001b[38;5;241;43m0\u001b[39;49m\n\u001b[0;32m     18\u001b[0m \u001b[38;5;28;01mexcept\u001b[39;00m \u001b[38;5;167;01mException\u001b[39;00m \u001b[38;5;28;01mas\u001b[39;00m e:\n",
      "\u001b[1;31mZeroDivisionError\u001b[0m: division by zero",
      "\nDuring handling of the above exception, another exception occurred:\n",
      "\u001b[1;31mCustomException\u001b[0m                           Traceback (most recent call last)",
      "Cell \u001b[1;32mIn[1], line 19\u001b[0m\n\u001b[0;32m     17\u001b[0m     \u001b[38;5;241m1\u001b[39m \u001b[38;5;241m/\u001b[39m \u001b[38;5;241m0\u001b[39m\n\u001b[0;32m     18\u001b[0m \u001b[38;5;28;01mexcept\u001b[39;00m \u001b[38;5;167;01mException\u001b[39;00m \u001b[38;5;28;01mas\u001b[39;00m e:\n\u001b[1;32m---> 19\u001b[0m     \u001b[38;5;28;01mraise\u001b[39;00m CustomException(e, sys)\n",
      "\u001b[1;31mCustomException\u001b[0m: Error occured in python script name [C:\\Users\\vchar\\AppData\\Local\\Temp\\ipykernel_36868\\4159084028.py] line number [17] error message [division by zero]"
     ]
    }
   ],
   "source": [
    "import sys\n",
    "\n",
    "class CustomException(Exception):\n",
    "\n",
    "    def __init__(self, error_message, error_details:sys):\n",
    "        self.error_message = error_message\n",
    "        _, _, exc_tb = error_details.exc_info()\n",
    "        self.lineno = exc_tb.tb_lineno\n",
    "        self.file_name = exc_tb.tb_frame.f_code.co_filename\n",
    "\n",
    "    def __str__(self):\n",
    "        return \"Error occured in python script name [{0}] line number [{1}] error message [{2}]\".format(\n",
    "            self.file_name, self.lineno, str(self.error_message))\n",
    "\n",
    "\n",
    "try:\n",
    "    1 / 0\n",
    "except Exception as e:\n",
    "    raise CustomException(e, sys)"
   ]
  },
  {
   "cell_type": "markdown",
   "metadata": {},
   "source": [
    "Logging testing"
   ]
  },
  {
   "cell_type": "code",
   "execution_count": 2,
   "metadata": {},
   "outputs": [],
   "source": [
    "import logging\n",
    "import os\n",
    "from datetime import datetime as dt\n",
    "\n",
    "LOG_FILE = f\"{dt.now().strftime('%m_%d_%Y_%H_%M_%S')}.log\"\n",
    "\n",
    "log_path = os.path.join(os.getcwd(), \"logs\")\n",
    "\n",
    "os.makedirs(log_path, exist_ok=True)\n",
    "\n",
    "LOG_FILEPATH = os.path.join(log_path, LOG_FILE)\n",
    "\n",
    "logging.basicConfig(\n",
    "    level=logging.INFO,\n",
    "    filename=LOG_FILEPATH,\n",
    "    format=\"[%(asctime)s] %(lineno)d %(name)s - %(levelname)s - %(message)s\"\n",
    ")\n",
    "\n",
    "logging.info(\"Log testing executed!!!\")"
   ]
  },
  {
   "cell_type": "markdown",
   "metadata": {},
   "source": [
    "Testing mongodb"
   ]
  },
  {
   "cell_type": "code",
   "execution_count": 2,
   "metadata": {},
   "outputs": [],
   "source": [
    "import os \n",
    "from pathlib import Path\n",
    "\n",
    "company_bankruptcy_path = Path(r\"C:/\\Users/\\vchar/\\OneDrive/\\Desktop/\\ML Projects/\\portfolio/\\CompanyBankruptcy\")\n",
    "current_dir = os.getcwd()\n",
    "\n",
    "os.chdir(company_bankruptcy_path)"
   ]
  },
  {
   "cell_type": "code",
   "execution_count": null,
   "metadata": {},
   "outputs": [],
   "source": [
    "current_dir = os.getcwd()"
   ]
  },
  {
   "cell_type": "code",
   "execution_count": 4,
   "metadata": {},
   "outputs": [],
   "source": [
    "import pandas as pd\n",
    "import pymongo\n",
    "import json\n",
    "\n",
    "# company_bankruptcy_path = Path(r\"C:/\\Users/\\vchar/\\OneDrive/\\Desktop/\\ML Projects/\\portfolio/\\CompanyBankruptcy/\\company_bankruptcy\")\n",
    "# current_dir = os.getcwd()\n",
    "\n",
    "# os.chdir(company_bankruptcy_path)\n",
    "\n",
    "from company_bankruptcy.exception.exception import CustomException\n",
    "from company_bankruptcy.logger.logger import logging\n",
    "from company_bankruptcy.constants.constants import DATABASE_NAME, COLLECTION_NAME, MONGODB_COLLECTION_STR\n",
    "\n",
    "# os.chdir(current_dir)\n",
    "\n",
    "import sys\n",
    "\n",
    "\n",
    "class MongoOps:\n",
    "\n",
    "    def __init__(self, client_url:str, database_name:str=None, collection_name:str=None):\n",
    "        self.client_url = client_url\n",
    "        self.database_name = database_name\n",
    "        self.collection_name = collection_name\n",
    "\n",
    "    def create_client(self):\n",
    "        logging.info('Initiating MongoClient')\n",
    "        client = pymongo.MongoClient(self.client_url)\n",
    "        logging.info('MongoClient initiated')\n",
    "        return client\n",
    "\n",
    "    def create_database(self):\n",
    "        logging.info('Creating Mongo database')\n",
    "        client = self.create_client()\n",
    "        database = client[self.database_name]\n",
    "        logging.info(f'Mongo database {self.database_name} created')\n",
    "        return database\n",
    "\n",
    "    def create_collection(self):\n",
    "        logging.info('Creating Mongo collection')\n",
    "        database = self.create_database()\n",
    "        collection = database[self.collection_name]\n",
    "        logging.info(f'Mongo collection {self.collection_name} created')\n",
    "        return collection\n",
    "    \n",
    "    def get_database(self, db_name:str):\n",
    "        logging.info(f'Accessing {db_name} database')\n",
    "        client = self.create_client()\n",
    "        database = client[db_name]\n",
    "        logging.info(f'{db_name} database accessed')\n",
    "        return database\n",
    "\n",
    "    def get_collection(self, coll_name:str, db_name:str):\n",
    "        logging.info(f'Accessing {coll_name} collection')\n",
    "        database = self.get_database(db_name)\n",
    "        collection = database[coll_name]\n",
    "        logging.info(f'{coll_name} collection accessed')\n",
    "        return collection\n",
    "\n",
    "    def insert_record(self, record:dict, coll_name:str, db_name:str):\n",
    "        collection = self.get_collection(coll_name, db_name)\n",
    "        logging.info(f'Starting record insertion into {coll_name} collection of {db_name} database')\n",
    "        if isinstance(record, list):\n",
    "            for data in record:\n",
    "                if type(data) != dict:\n",
    "                    logging.info(\"Records' list should have elements as dict\")\n",
    "                    raise TypeError(\"Records' list should have elements as dict\")\n",
    "            collection.insert_many(record)\n",
    "        elif isinstance(record, dict):\n",
    "            collection.insert_one(record)\n",
    "        logging.info(f'Insertion into {coll_name} collection of {db_name} database completed')\n",
    "\n",
    "    def insert_from_file(self, datafile:str, coll_name:str, db_name:str):\n",
    "        logging.info(f'Starting record insertion into {coll_name} collection of {db_name} database from {datafile}')\n",
    "        self.path = datafile\n",
    "\n",
    "        if self.path.endswith('.csv'):\n",
    "            df = pd.read_csv(self.path, encoding='utf-8')\n",
    "        elif self.path.endswith('.xlsx'):\n",
    "            df = pd.read_excel(self.path, encoding='utf-8')\n",
    "        logging.info('Data is loaded as a pandas dataframe')\n",
    "\n",
    "        logging.info('Converting the data into json')\n",
    "        datajson = json.loads(df.to_json(orient='record'))\n",
    "        logging.info('Conversion to json completed')\n",
    "\n",
    "        collection = self.get_collection(coll_name, db_name)\n",
    "\n",
    "        logging.info('Inserting json data')\n",
    "        collection.insert_many(datajson)\n",
    "        logging.info('Insertion completed')\n",
    "\n",
    "    def get_records(self, coll_name:str, db_name:str):\n",
    "        collection = self.get_collection(coll_name, db_name)\n",
    "        retrieved_data = pd.DataFrame(list(collection.find()))\n",
    "        try:\n",
    "            retrieved_data.drop(columns='_id', inplace=True)\n",
    "            logging.info('Loading the data from the database completed')\n",
    "        except Exception as e:\n",
    "            retrieved_data = pd.DataFrame()\n",
    "            logging.info('Loading the data from the database failed')\n",
    "            raise CustomException(e, sys)\n",
    "        return retrieved_data\n",
    "\n",
    "mongo_instance = MongoOps(\n",
    "    client_url=MONGODB_COLLECTION_STR\n",
    ")\n",
    "\n",
    "retrieved_data = mongo_instance.get_records(coll_name=COLLECTION_NAME, db_name=DATABASE_NAME)\n",
    "retrieved_data.head()"
   ]
  },
  {
   "cell_type": "code",
   "execution_count": null,
   "metadata": {},
   "outputs": [],
   "source": []
  }
 ],
 "metadata": {
  "kernelspec": {
   "display_name": "ml_projects",
   "language": "python",
   "name": "python3"
  },
  "language_info": {
   "codemirror_mode": {
    "name": "ipython",
    "version": 3
   },
   "file_extension": ".py",
   "mimetype": "text/x-python",
   "name": "python",
   "nbconvert_exporter": "python",
   "pygments_lexer": "ipython3",
   "version": "3.10.14"
  }
 },
 "nbformat": 4,
 "nbformat_minor": 2
}
